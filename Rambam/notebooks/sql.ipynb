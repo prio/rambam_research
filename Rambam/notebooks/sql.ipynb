{
 "cells": [
  {
   "cell_type": "code",
   "execution_count": 1,
   "metadata": {},
   "outputs": [],
   "source": [
    "%load_ext sql\n",
    "%matplotlib inline"
   ]
  },
  {
   "cell_type": "code",
   "execution_count": 2,
   "metadata": {},
   "outputs": [
    {
     "data": {
      "text/plain": [
       "'Connected: @../data/rambam.sqlite'"
      ]
     },
     "execution_count": 2,
     "metadata": {},
     "output_type": "execute_result"
    }
   ],
   "source": [
    "%sql sqlite:///../data/rambam.sqlite"
   ]
  },
  {
   "cell_type": "code",
   "execution_count": 3,
   "metadata": {},
   "outputs": [
    {
     "name": "stdout",
     "output_type": "stream",
     "text": [
      " * sqlite:///../data/rambam.sqlite\n",
      "Done.\n"
     ]
    },
    {
     "data": {
      "text/html": [
       "<table>\n",
       "    <tr>\n",
       "        <th>patient_id</th>\n",
       "        <th>gender</th>\n",
       "        <th>entry_group</th>\n",
       "        <th>first_department</th>\n",
       "        <th>age</th>\n",
       "        <th>entry_date</th>\n",
       "    </tr>\n",
       "    <tr>\n",
       "        <td>10000037</td>\n",
       "        <td>2</td>\n",
       "        <td>2</td>\n",
       "        <td>51</td>\n",
       "        <td>45</td>\n",
       "        <td>2004-04-28 10:16:56.000000</td>\n",
       "    </tr>\n",
       "    <tr>\n",
       "        <td>10000090</td>\n",
       "        <td>2</td>\n",
       "        <td>1</td>\n",
       "        <td>1</td>\n",
       "        <td>65</td>\n",
       "        <td>2004-04-28 23:29:25.000000</td>\n",
       "    </tr>\n",
       "    <tr>\n",
       "        <td>10000091</td>\n",
       "        <td>2</td>\n",
       "        <td>1</td>\n",
       "        <td>1</td>\n",
       "        <td>78</td>\n",
       "        <td>2004-04-02 15:11:31.000000</td>\n",
       "    </tr>\n",
       "    <tr>\n",
       "        <td>10000094</td>\n",
       "        <td>2</td>\n",
       "        <td>1</td>\n",
       "        <td>1</td>\n",
       "        <td>34</td>\n",
       "        <td>2004-04-20 11:51:24.000000</td>\n",
       "    </tr>\n",
       "    <tr>\n",
       "        <td>10000096</td>\n",
       "        <td>2</td>\n",
       "        <td>1</td>\n",
       "        <td>1</td>\n",
       "        <td>98</td>\n",
       "        <td>2004-04-18 17:18:07.000000</td>\n",
       "    </tr>\n",
       "</table>"
      ],
      "text/plain": [
       "[(10000037, 2, 2, 51, 45, '2004-04-28 10:16:56.000000'),\n",
       " (10000090, 2, 1, 1, 65, '2004-04-28 23:29:25.000000'),\n",
       " (10000091, 2, 1, 1, 78, '2004-04-02 15:11:31.000000'),\n",
       " (10000094, 2, 1, 1, 34, '2004-04-20 11:51:24.000000'),\n",
       " (10000096, 2, 1, 1, 98, '2004-04-18 17:18:07.000000')]"
      ]
     },
     "execution_count": 3,
     "metadata": {},
     "output_type": "execute_result"
    }
   ],
   "source": [
    "%%sql \n",
    "SELECT \n",
    "    patient_id,\n",
    "    gender,\n",
    "    entry_group,\n",
    "    first_department,\n",
    "    age,\n",
    "    entry_date\n",
    "FROM visits \n",
    "LIMIT 5;"
   ]
  },
  {
   "cell_type": "code",
   "execution_count": 4,
   "metadata": {},
   "outputs": [
    {
     "name": "stdout",
     "output_type": "stream",
     "text": [
      " * sqlite:///../data/rambam.sqlite\n",
      "Done.\n"
     ]
    },
    {
     "data": {
      "text/html": [
       "<table>\n",
       "    <tr>\n",
       "        <th>patient_id</th>\n",
       "        <th>gender</th>\n",
       "        <th>entry_point</th>\n",
       "        <th>entry_department</th>\n",
       "        <th>age</th>\n",
       "        <th>entry_date</th>\n",
       "    </tr>\n",
       "    <tr>\n",
       "        <td>10112398</td>\n",
       "        <td>Male</td>\n",
       "        <td>Emergency Room </td>\n",
       "        <td>Emergency Internal Medicine Unit</td>\n",
       "        <td>45</td>\n",
       "        <td>2004-10-27 11:28:23.000000</td>\n",
       "    </tr>\n",
       "    <tr>\n",
       "        <td>10112398</td>\n",
       "        <td>Male</td>\n",
       "        <td>Emergency Room </td>\n",
       "        <td>Emergency Internal Medicine Unit</td>\n",
       "        <td>45</td>\n",
       "        <td>2005-01-25 13:35:49.000000</td>\n",
       "    </tr>\n",
       "    <tr>\n",
       "        <td>10112399</td>\n",
       "        <td>Male</td>\n",
       "        <td>Emergency Room </td>\n",
       "        <td>Emergency Internal Medicine Unit</td>\n",
       "        <td>50</td>\n",
       "        <td>2005-01-11 11:57:11.000000</td>\n",
       "    </tr>\n",
       "    <tr>\n",
       "        <td>10112400</td>\n",
       "        <td>Male</td>\n",
       "        <td>Emergency Room </td>\n",
       "        <td>Emergency Internal Medicine Unit</td>\n",
       "        <td>71</td>\n",
       "        <td>2005-01-28 19:27:57.000000</td>\n",
       "    </tr>\n",
       "    <tr>\n",
       "        <td>10112401</td>\n",
       "        <td>Male</td>\n",
       "        <td>Emergency Room </td>\n",
       "        <td>Emergency Internal Medicine Unit</td>\n",
       "        <td>33</td>\n",
       "        <td>2005-01-31 09:31:35.000000</td>\n",
       "    </tr>\n",
       "</table>"
      ],
      "text/plain": [
       "[(10112398, 'Male', 'Emergency Room ', 'Emergency Internal Medicine Unit', 45, '2004-10-27 11:28:23.000000'),\n",
       " (10112398, 'Male', 'Emergency Room ', 'Emergency Internal Medicine Unit', 45, '2005-01-25 13:35:49.000000'),\n",
       " (10112399, 'Male', 'Emergency Room ', 'Emergency Internal Medicine Unit', 50, '2005-01-11 11:57:11.000000'),\n",
       " (10112400, 'Male', 'Emergency Room ', 'Emergency Internal Medicine Unit', 71, '2005-01-28 19:27:57.000000'),\n",
       " (10112401, 'Male', 'Emergency Room ', 'Emergency Internal Medicine Unit', 33, '2005-01-31 09:31:35.000000')]"
      ]
     },
     "execution_count": 4,
     "metadata": {},
     "output_type": "execute_result"
    }
   ],
   "source": [
    "%%sql \n",
    "SELECT \n",
    "    patient_id,\n",
    "    gndr.name AS gender,\n",
    "    entry_group.name AS entry_point,\n",
    "    department.name AS entry_department,\n",
    "    age,\n",
    "    entry_date\n",
    "FROM visits \n",
    "JOIN \n",
    "    gender AS gndr ON gndr.code = visits.gender\n",
    "JOIN    \n",
    "    entry_group ON entry_group.code = visits.entry_group\n",
    "JOIN    \n",
    "    department ON department.code = visits.first_department    \n",
    "LIMIT 5;"
   ]
  },
  {
   "cell_type": "code",
   "execution_count": 5,
   "metadata": {},
   "outputs": [
    {
     "name": "stdout",
     "output_type": "stream",
     "text": [
      " * sqlite:///../data/rambam.sqlite\n",
      "Done.\n",
      "Returning data to local variable genders\n"
     ]
    }
   ],
   "source": [
    "%%sql \n",
    "genders << \n",
    "SELECT \n",
    "    gndr.name AS gender,\n",
    "    count(gndr.code) AS total\n",
    "FROM visits \n",
    "JOIN \n",
    "    gender AS gndr ON gndr.code = visits.gender\n",
    "GROUP BY\n",
    "    gndr.code;"
   ]
  },
  {
   "cell_type": "code",
   "execution_count": 6,
   "metadata": {},
   "outputs": [
    {
     "data": {
      "image/png": "[encoded data removed]",
      "text/plain": [
       "<Figure size 432x288 with 1 Axes>"
      ]
     },
     "metadata": {
      "needs_background": "light"
     },
     "output_type": "display_data"
    }
   ],
   "source": [
    "genders.bar();"
   ]
  },
  {
   "cell_type": "code",
   "execution_count": null,
   "metadata": {},
   "outputs": [],
   "source": []
  }
 ],
 "metadata": {
  "kernelspec": {
   "display_name": "Python 3",
   "language": "python",
   "name": "python3"
  },
  "language_info": {
   "codemirror_mode": {
    "name": "ipython",
    "version": 3
   },
   "file_extension": ".py",
   "mimetype": "text/x-python",
   "name": "python",
   "nbconvert_exporter": "python",
   "pygments_lexer": "ipython3",
   "version": "3.8.5"
  }
 },
 "nbformat": 4,
 "nbformat_minor": 4
}
